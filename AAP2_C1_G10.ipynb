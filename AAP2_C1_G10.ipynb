{
  "cells": [
    {
      "cell_type": "markdown",
      "metadata": {
        "id": "mPxRT_BtT5ar"
      },
      "source": [
        "Link al repositorio de Github: https://github.com/100461170/AA_practica_2_grupo_10\n",
        "\n",
        "Para subir los archivos y demás a lo largo de los diferentes cuadernos hemos estado usando Drive ya que es muy rápido y cómodo, en vez de subir los archivos manualmente\n",
        "\n",
        "Autores: Alejandro Díaz Cuéllar 100472173 y Tomás Mendizábal 100461170"
      ]
    },
    {
      "cell_type": "markdown",
      "source": [
        "# **Obtener los datos**"
      ],
      "metadata": {
        "id": "fLGrdxNI5SAC"
      }
    },
    {
      "cell_type": "code",
      "execution_count": null,
      "metadata": {
        "id": "LZvmxiwXHsxQ",
        "colab": {
          "base_uri": "https://localhost:8080/"
        },
        "outputId": "aa46d94e-8d3c-48db-ce25-c69a737d8a36"
      },
      "outputs": [
        {
          "output_type": "stream",
          "name": "stdout",
          "text": [
            "Drive already mounted at /content/drive; to attempt to forcibly remount, call drive.mount(\"/content/drive\", force_remount=True).\n"
          ]
        }
      ],
      "source": [
        "from google.colab import files\n",
        "import pandas as pd\n",
        "import numpy as np\n",
        "\n",
        "# Si quieres subir el archivo wind_ava.csv desde tu ordenador\n",
        "#uploaded = files.upload()\n",
        "\n",
        "# Montar el drive para incluir el archivo desde ahí\n",
        "from google.colab import drive\n",
        "drive.mount('/content/drive')"
      ]
    },
    {
      "cell_type": "code",
      "execution_count": null,
      "metadata": {
        "id": "cucin3vsFZjr"
      },
      "outputs": [],
      "source": [
        "seed = 100472173\n",
        "# Leer el archivo CSV utilizando Pandas\n",
        "df = pd.read_csv(\"/content/drive/MyDrive/AA_P2_Grupo10/stars_data.csv\")"
      ]
    },
    {
      "cell_type": "markdown",
      "source": [
        "# **1.- Programar nuestro propio KMeans**"
      ],
      "metadata": {
        "id": "1zA5wQFC2zv1"
      }
    },
    {
      "cell_type": "markdown",
      "source": [
        "## 1.1.- Implementación"
      ],
      "metadata": {
        "id": "tn9B3yfU4cnk"
      }
    },
    {
      "cell_type": "code",
      "source": [
        "# Funcion KMeans. Al tener que ser una funcion, directamente hacemos que sea el fit\n",
        "# del KMeans de ScikitLearn\n",
        "def my_kmeans(data, n_clusters, good_init=False):\n",
        "  # Si el good_init está activado, haremos 10 iteraciones\n",
        "  if good_init:\n",
        "    iterations = 10\n",
        "  else:\n",
        "    iterations = 1\n",
        "  # Para almacenar los resultados e inertias de cada iteracion\n",
        "  inertias = []\n",
        "  results = []\n",
        "  for i in range(iterations):\n",
        "    converger = False\n",
        "    # Cogemos los centroides iniciales seleccionando aleatoriamente n_clusters\n",
        "    # instancias de los datos\n",
        "    centroids = data[np.random.choice(data.shape[0], n_clusters, replace=False)]\n",
        "    while not converger:\n",
        "      # Calculamos la distancia euclidea de cada elemento del dataset a cada\n",
        "      # centroide\n",
        "      distances = np.linalg.norm(data[:, np.newaxis] - centroids, axis=2)\n",
        "      # La label de cada centroide será el centroide del que estén mas cerca\n",
        "      labels = np.argmin(distances, axis=1)\n",
        "      # Calculamos los nuevos centroides cogiendo la media de los elementos\n",
        "      # asignados a cada label\n",
        "      new_centroids = np.array([data[labels == k].mean(axis=0) for k in range(n_clusters)])\n",
        "      # Miramos si ha convergido\n",
        "      if np.allclose(centroids, new_centroids):\n",
        "          converger = True\n",
        "      centroids = new_centroids\n",
        "    results.append(labels)\n",
        "    # Calculamos la inercia\n",
        "    inertia = 0\n",
        "    for k in range(len(centroids)):\n",
        "        inertia += np.sum((data[labels == k] - centroids[k])**2)\n",
        "    inertias.append(inertia)\n",
        "  # Devolvemos los centroides cuyo modelo tenga menos inercia\n",
        "  winner = inertias.index(min(inertias))\n",
        "  return results[winner]"
      ],
      "metadata": {
        "id": "ga9UG8-quFVf"
      },
      "execution_count": null,
      "outputs": []
    },
    {
      "cell_type": "markdown",
      "source": [
        "## 1.2.- Pruebas"
      ],
      "metadata": {
        "id": "GqborFaq4kCv"
      }
    },
    {
      "cell_type": "code",
      "source": [
        "from sklearn.datasets import make_blobs\n",
        "from sklearn.cluster import KMeans\n",
        "from sklearn.metrics import silhouette_score, adjusted_rand_score, completeness_score\n",
        "\n",
        "X, y = make_blobs(n_samples=300, centers=4, cluster_std=0.60)\n",
        "\n",
        "# Ajustar tu implementación de KMeans\n",
        "labels_custom = my_kmeans(X, 4)\n",
        "\n",
        "# Ajustar el KMeans de scikit-learn\n",
        "sklearn_kmeans = KMeans(n_clusters=4)\n",
        "labels_sklearn = sklearn_kmeans.fit_predict(X)\n",
        "\n",
        "# Calcular algunas métricas de evaluación\n",
        "silhouette_custom = silhouette_score(X, labels_custom)\n",
        "silhouette_sklearn = silhouette_score(X, labels_sklearn)\n",
        "\n",
        "ari_custom = adjusted_rand_score(y, labels_custom)\n",
        "ari_sklearn = adjusted_rand_score(y, labels_sklearn)\n",
        "\n",
        "completeness_custom = completeness_score(y, labels_custom)\n",
        "completeness_sklearn = completeness_score(y, labels_sklearn)\n",
        "\n",
        "# Imprimir las métricas\n",
        "print(\"Métricas de evaluación para tu implementación de KMeans:\")\n",
        "print(\"Silhouette Score:\", silhouette_custom)\n",
        "print(\"Adjusted Rand Index:\", ari_custom)\n",
        "print(\"Completeness Score:\", completeness_custom)\n",
        "print()\n",
        "\n",
        "print(\"Métricas de evaluación para KMeans de scikit-learn:\")\n",
        "print(\"Silhouette Score:\", silhouette_sklearn)\n",
        "print(\"Adjusted Rand Index:\", ari_sklearn)\n",
        "print(\"Completeness Score:\", completeness_sklearn)"
      ],
      "metadata": {
        "colab": {
          "base_uri": "https://localhost:8080/"
        },
        "id": "3yCAfcFGax-m",
        "outputId": "8a12458d-9129-41d9-89dd-1b990e945142"
      },
      "execution_count": null,
      "outputs": [
        {
          "output_type": "stream",
          "name": "stdout",
          "text": [
            "Métricas de evaluación para tu implementación de KMeans:\n",
            "Silhouette Score: 0.7619686555881909\n",
            "Adjusted Rand Index: 1.0\n",
            "Completeness Score: 1.0\n",
            "\n",
            "Métricas de evaluación para KMeans de scikit-learn:\n",
            "Silhouette Score: 0.7619686555881909\n",
            "Adjusted Rand Index: 1.0\n",
            "Completeness Score: 1.0\n"
          ]
        },
        {
          "output_type": "stream",
          "name": "stderr",
          "text": [
            "/usr/local/lib/python3.10/dist-packages/sklearn/cluster/_kmeans.py:870: FutureWarning: The default value of `n_init` will change from 10 to 'auto' in 1.4. Set the value of `n_init` explicitly to suppress the warning\n",
            "  warnings.warn(\n"
          ]
        }
      ]
    },
    {
      "cell_type": "markdown",
      "source": [
        "```\n",
        "// FALTA HACER EL ANÁLISIS DE RESULTADOS AQUÍ\n",
        "```"
      ],
      "metadata": {
        "id": "GWvikg16gDGy"
      }
    },
    {
      "cell_type": "markdown",
      "source": [
        "# **2.- Uso de 2 algoritmos de Clustering**"
      ],
      "metadata": {
        "id": "s_pfTLWde6fl"
      }
    },
    {
      "cell_type": "markdown",
      "source": [
        "## 2.1.- Transformación de los datos"
      ],
      "metadata": {
        "id": "gNHL3gTVn2Dt"
      }
    },
    {
      "cell_type": "markdown",
      "source": [
        "Primero vamos a transformar los colores del dataset para que sean más uniformes"
      ],
      "metadata": {
        "id": "xgZ4Mvk-hrrA"
      }
    },
    {
      "cell_type": "code",
      "source": [
        "# Establecemos una unificación de colores:\n",
        "mapping = {   # Diccionario con formato Target : List of current values\n",
        "    'Red': ['Red'],\n",
        "    'Orange-Red': ['Orange-Red'],\n",
        "    'Orange': ['Orange'],\n",
        "    'Yellow-Orange': ['Pale yellow orange'],\n",
        "    'Yellow': ['yellowish', 'Yellowish'],\n",
        "    'White-Yellow': ['Yellowish White', 'yellow-white', 'White-Yellow'],\n",
        "    'White': ['White', 'Whitish', 'white'],\n",
        "    'Blue-White': ['Blue White', 'Blue white', 'Blue-white', 'Blue-White'],\n",
        "    'Blue': ['Blue'],\n",
        "}\n",
        "# Mapeamos los datos\n",
        "for target_color, source_colors in mapping.items():\n",
        "  df.loc[df.Color.isin(source_colors), 'Color'] = target_color"
      ],
      "metadata": {
        "id": "0VPgSnxSgWUm"
      },
      "execution_count": null,
      "outputs": []
    },
    {
      "cell_type": "markdown",
      "source": [
        "Codificamos el dataframe de dos formas, con One Hot Encoding y con Ordinal Encoding"
      ],
      "metadata": {
        "id": "e44rixfnnot2"
      }
    },
    {
      "cell_type": "code",
      "source": [
        "from sklearn.preprocessing import OneHotEncoder\n",
        "from sklearn.preprocessing import OrdinalEncoder\n",
        "\n",
        "# ONE HOT ENCODING\n",
        "# Seleccionar las columnas con variables categóricas\n",
        "categorical_cols = ['Spectral_Class', 'Color']\n",
        "encoder = OneHotEncoder(sparse=False, drop='first')\n",
        "# Ajustar y transformar las variables categóricas\n",
        "encoded_cols = encoder.fit_transform(df[categorical_cols])\n",
        "# Convertir la salida a un DataFrame\n",
        "encoded_df = pd.DataFrame(encoded_cols, columns=encoder.get_feature_names_out(categorical_cols))\n",
        "# Concatenar los DataFrames codificados con el DataFrame original\n",
        "df_OH = pd.concat([df.drop(columns=categorical_cols), encoded_df], axis=1)\n",
        "\n",
        "# ORDINAL ENCODING\n",
        "df_OR = df.copy()\n",
        "colors = list(mapping.keys())\n",
        "spectral = ['O', 'B', 'A', 'F', 'G', 'K', 'M']\n",
        "# Crear un codificador OrdinalEncoder con el orden deseado\n",
        "encoder = OrdinalEncoder(categories=[spectral, colors])\n",
        "# Ajustar y transformar los datos\n",
        "encoded_data = encoder.fit_transform(df_OR[categorical_cols])\n",
        "# Reemplazar las columnas categóricas originales con las codificadas\n",
        "df_OR['Spectral_Class'] = encoded_data[:, 0]\n",
        "df_OR['Color'] = encoded_data[:, 1]\n",
        "\n",
        "print(df_OH)\n",
        "print(df_OR)"
      ],
      "metadata": {
        "colab": {
          "base_uri": "https://localhost:8080/"
        },
        "id": "ZBCR8lI3icTN",
        "outputId": "422b4902-6e2c-45f9-8f43-f964da2c1af8"
      },
      "execution_count": null,
      "outputs": [
        {
          "output_type": "stream",
          "name": "stdout",
          "text": [
            "     Temperature              L          R    A_M  Spectral_Class_B  \\\n",
            "0           3068       0.002400     0.1700  16.12               0.0   \n",
            "1           3042       0.000500     0.1542  16.60               0.0   \n",
            "2           2600       0.000300     0.1020  18.70               0.0   \n",
            "3           2800       0.000200     0.1600  16.65               0.0   \n",
            "4           1939       0.000138     0.1030  20.06               0.0   \n",
            "..           ...            ...        ...    ...               ...   \n",
            "235        38940  374830.000000  1356.0000  -9.93               0.0   \n",
            "236        30839  834042.000000  1194.0000 -10.63               0.0   \n",
            "237         8829  537493.000000  1423.0000 -10.73               0.0   \n",
            "238         9235  404940.000000  1112.0000 -11.23               0.0   \n",
            "239        37882  294903.000000  1783.0000  -7.80               0.0   \n",
            "\n",
            "     Spectral_Class_F  Spectral_Class_G  Spectral_Class_K  Spectral_Class_M  \\\n",
            "0                 0.0               0.0               0.0               1.0   \n",
            "1                 0.0               0.0               0.0               1.0   \n",
            "2                 0.0               0.0               0.0               1.0   \n",
            "3                 0.0               0.0               0.0               1.0   \n",
            "4                 0.0               0.0               0.0               1.0   \n",
            "..                ...               ...               ...               ...   \n",
            "235               0.0               0.0               0.0               0.0   \n",
            "236               0.0               0.0               0.0               0.0   \n",
            "237               0.0               0.0               0.0               0.0   \n",
            "238               0.0               0.0               0.0               0.0   \n",
            "239               0.0               0.0               0.0               0.0   \n",
            "\n",
            "     Spectral_Class_O  Color_Blue-White  Color_Orange  Color_Orange-Red  \\\n",
            "0                 0.0               0.0           0.0               0.0   \n",
            "1                 0.0               0.0           0.0               0.0   \n",
            "2                 0.0               0.0           0.0               0.0   \n",
            "3                 0.0               0.0           0.0               0.0   \n",
            "4                 0.0               0.0           0.0               0.0   \n",
            "..                ...               ...           ...               ...   \n",
            "235               1.0               0.0           0.0               0.0   \n",
            "236               1.0               0.0           0.0               0.0   \n",
            "237               0.0               0.0           0.0               0.0   \n",
            "238               0.0               0.0           0.0               0.0   \n",
            "239               1.0               0.0           0.0               0.0   \n",
            "\n",
            "     Color_Red  Color_White  Color_White-Yellow  Color_Yellow  \\\n",
            "0          1.0          0.0                 0.0           0.0   \n",
            "1          1.0          0.0                 0.0           0.0   \n",
            "2          1.0          0.0                 0.0           0.0   \n",
            "3          1.0          0.0                 0.0           0.0   \n",
            "4          1.0          0.0                 0.0           0.0   \n",
            "..         ...          ...                 ...           ...   \n",
            "235        0.0          0.0                 0.0           0.0   \n",
            "236        0.0          0.0                 0.0           0.0   \n",
            "237        0.0          1.0                 0.0           0.0   \n",
            "238        0.0          1.0                 0.0           0.0   \n",
            "239        0.0          0.0                 0.0           0.0   \n",
            "\n",
            "     Color_Yellow-Orange  \n",
            "0                    0.0  \n",
            "1                    0.0  \n",
            "2                    0.0  \n",
            "3                    0.0  \n",
            "4                    0.0  \n",
            "..                   ...  \n",
            "235                  0.0  \n",
            "236                  0.0  \n",
            "237                  0.0  \n",
            "238                  0.0  \n",
            "239                  0.0  \n",
            "\n",
            "[240 rows x 18 columns]\n",
            "     Temperature              L          R    A_M  Color  Spectral_Class\n",
            "0           3068       0.002400     0.1700  16.12    0.0             6.0\n",
            "1           3042       0.000500     0.1542  16.60    0.0             6.0\n",
            "2           2600       0.000300     0.1020  18.70    0.0             6.0\n",
            "3           2800       0.000200     0.1600  16.65    0.0             6.0\n",
            "4           1939       0.000138     0.1030  20.06    0.0             6.0\n",
            "..           ...            ...        ...    ...    ...             ...\n",
            "235        38940  374830.000000  1356.0000  -9.93    8.0             0.0\n",
            "236        30839  834042.000000  1194.0000 -10.63    8.0             0.0\n",
            "237         8829  537493.000000  1423.0000 -10.73    6.0             2.0\n",
            "238         9235  404940.000000  1112.0000 -11.23    6.0             2.0\n",
            "239        37882  294903.000000  1783.0000  -7.80    8.0             0.0\n",
            "\n",
            "[240 rows x 6 columns]\n"
          ]
        },
        {
          "output_type": "stream",
          "name": "stderr",
          "text": [
            "/usr/local/lib/python3.10/dist-packages/sklearn/preprocessing/_encoders.py:868: FutureWarning: `sparse` was renamed to `sparse_output` in version 1.2 and will be removed in 1.4. `sparse_output` is ignored unless you leave `sparse` to its default value.\n",
            "  warnings.warn(\n"
          ]
        }
      ]
    },
    {
      "cell_type": "markdown",
      "source": [
        "Ahora extraemos dos componentes PCA\n",
        "\n",
        "```\n",
        "// NO SÉ SI LO DE APLICAR STANDARD ESTÁ BIEN POR EL TEMA DE LAS VARIABLES CODIFICADAS\n",
        "```"
      ],
      "metadata": {
        "id": "7P_p4-Q1vgHz"
      }
    },
    {
      "cell_type": "code",
      "source": [
        "from sklearn.decomposition import PCA\n",
        "from sklearn.preprocessing import StandardScaler\n",
        "\n",
        "scaler = StandardScaler()\n",
        "X_OH_scaled = scaler.fit_transform(df_OH)\n",
        "X_OR_scaled = scaler.fit_transform(df_OR)\n",
        "\n",
        "# Creamos un objeto PCA con 2 componentes\n",
        "pca = PCA(n_components=2)\n",
        "\n",
        "# Aplicamos PCA a los datos estandarizados\n",
        "X_OH_PCA = pca.fit_transform(X_OH_scaled)\n",
        "X_OR_PCA = pca.fit_transform(X_OR_scaled)"
      ],
      "metadata": {
        "id": "OOQ03H4rtTPL"
      },
      "execution_count": null,
      "outputs": []
    },
    {
      "cell_type": "markdown",
      "source": [
        "## 2.2.- Algoritmo 1: KMeans"
      ],
      "metadata": {
        "id": "ppnxuTHfn6z1"
      }
    },
    {
      "cell_type": "markdown",
      "source": [
        "Como en el enunciado se menciona que normalmente las estrellas se pueden clasificar en 6 clases, y dado que necesitamos un número arbitrario de clusters para KMeans, vamos a aprovechar y a usar n_clusters = 6."
      ],
      "metadata": {
        "id": "5YZyuw8buVu4"
      }
    },
    {
      "cell_type": "code",
      "source": [
        "kmeans = KMeans(n_clusters=6)\n",
        "\n",
        "# ONE HOT ENCODING\n",
        "labels_OH = kmeans.fit_predict(X_OH_PCA)\n",
        "\n",
        "# ORDINAL ENCODING\n",
        "labels_OR = kmeans.fit_predict(X_OR_PCA)\n",
        "\n",
        "# Calcular la inercia y la puntuación de silueta para las etiquetas de one-hot encoding\n",
        "inertia_OH = kmeans.inertia_\n",
        "silhouette_score_OH = silhouette_score(X_OH_PCA, labels_OH)\n",
        "\n",
        "# Calcular la inercia y la puntuación de silueta para las etiquetas de ordinal encoding\n",
        "inertia_OR = kmeans.inertia_\n",
        "silhouette_score_OR = silhouette_score(X_OR_PCA, labels_OR)\n",
        "\n",
        "print(\"Inertia (One-Hot Encoding):\", inertia_OH)\n",
        "print(\"Silhouette Score (One-Hot Encoding):\", silhouette_score_OH)\n",
        "print(\"Inertia (Ordinal Encoding):\", inertia_OR)\n",
        "print(\"Silhouette Score (Ordinal Encoding):\", silhouette_score_OR)"
      ],
      "metadata": {
        "colab": {
          "base_uri": "https://localhost:8080/"
        },
        "id": "Ea8X7kBkupp2",
        "outputId": "f7a5c186-522a-45b0-c7f9-ffeb8c8ba3a0"
      },
      "execution_count": null,
      "outputs": [
        {
          "output_type": "stream",
          "name": "stdout",
          "text": [
            "Inertia (One-Hot Encoding): 80.70203003813528\n",
            "Silhouette Score (One-Hot Encoding): 0.6972556055210379\n",
            "Inertia (Ordinal Encoding): 80.70203003813528\n",
            "Silhouette Score (Ordinal Encoding): 0.6605298437727174\n"
          ]
        },
        {
          "output_type": "stream",
          "name": "stderr",
          "text": [
            "/usr/local/lib/python3.10/dist-packages/sklearn/cluster/_kmeans.py:870: FutureWarning: The default value of `n_init` will change from 10 to 'auto' in 1.4. Set the value of `n_init` explicitly to suppress the warning\n",
            "  warnings.warn(\n",
            "/usr/local/lib/python3.10/dist-packages/sklearn/cluster/_kmeans.py:870: FutureWarning: The default value of `n_init` will change from 10 to 'auto' in 1.4. Set the value of `n_init` explicitly to suppress the warning\n",
            "  warnings.warn(\n"
          ]
        }
      ]
    },
    {
      "cell_type": "markdown",
      "source": [
        "\n",
        "\n",
        "```\n",
        "// HAY QUE INTERPRETAR LOS DATOS Y AHORA MISMO NO SÉ\n",
        "```\n",
        "\n"
      ],
      "metadata": {
        "id": "Ak260067wplU"
      }
    },
    {
      "cell_type": "markdown",
      "source": [
        "## 2.3.- Algoritmo 2: DBSCAN"
      ],
      "metadata": {
        "id": "jCXLE6sToCAH"
      }
    }
  ],
  "metadata": {
    "colab": {
      "provenance": [],
      "toc_visible": true
    },
    "kernelspec": {
      "display_name": "Python 3",
      "name": "python3"
    },
    "language_info": {
      "name": "python"
    }
  },
  "nbformat": 4,
  "nbformat_minor": 0
}